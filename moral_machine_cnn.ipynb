{
 "cells": [
  {
   "cell_type": "code",
   "execution_count": 1,
   "metadata": {},
   "outputs": [
    {
     "name": "stderr",
     "output_type": "stream",
     "text": [
      "Using TensorFlow backend.\n"
     ]
    }
   ],
   "source": [
    "from __future__ import print_function\n",
    "import keras\n",
    "from keras.models import Sequential\n",
    "from keras.layers import Dense, Dropout, Flatten\n",
    "from keras.layers import Conv2D, MaxPooling2D\n",
    "from keras import backend as K\n",
    "import csv\n",
    "import numpy"
   ]
  },
  {
   "cell_type": "code",
   "execution_count": 12,
   "metadata": {},
   "outputs": [],
   "source": [
    "   def getTrainingData(filename): \n",
    "        x_train = numpy.array([[]])\n",
    "        y_train = numpy.array([])\n",
    "        x_test = numpy.array([[]])\n",
    "        y_test = numpy.array([])\n",
    "        category_mapping = {'Fitness': 2, 'Gender': 3, 'Age': 4, 'Utilitarian': 5, 'Social Status': 6, 'Species': 7}\n",
    "        attribute_mapping = {'Fit':0, 'Fat':1, 'Male':2, 'Female':3, 'Young': 4, 'Old':5, 'More':6, 'Less':7, 'High':8, 'Low':9, 'Hoomans':10, 'Pets':11} \n",
    "        with open(filename) as csv_file:\n",
    "            csv_reader = csv.DictReader(csv_file, delimiter=',')\n",
    "            line_count = 0\n",
    "            for row in csv_reader:\n",
    "                if line_count > 110000:\n",
    "                    break;\n",
    "                if (row['ScenarioType'] != row['ScenarioTypeStrict']) or row['ScenarioType'] == 'Random':\n",
    "                    continue\n",
    "                if line_count == 0:\n",
    "                    # print(f'Column names are {\", \".join(row)}')\n",
    "                    line_count += 1\n",
    "                else:\n",
    "                    current = numpy.zeros((1, 8))\n",
    "                    current[0][0] = row['PedPed']\n",
    "                    current[0][1] = row['CrossingSignal']\n",
    "                    current[0][category_mapping[row['ScenarioType']]] = 1\n",
    "                    if line_count <= 100000:\n",
    "                        if line_count == 1:\n",
    "                            x_train = current\n",
    "                        else:\n",
    "                            x_train = numpy.append(x_train, current, axis=0)\n",
    "                        y_train = numpy.append(y_train, [attribute_mapping[row['AttributeLevel']]], axis = 0)\n",
    "                    else:\n",
    "                        if line_count == 100001:\n",
    "                            x_test = current\n",
    "                        else:\n",
    "                            x_test = numpy.append(x_test, current, axis=0)\n",
    "                        y_test = numpy.append(y_test, [attribute_mapping[row['AttributeLevel']]], axis = 0)\n",
    "                    line_count += 1\n",
    "        return x_train, y_train, x_test, y_test"
   ]
  },
  {
   "cell_type": "code",
   "execution_count": 13,
   "metadata": {},
   "outputs": [],
   "source": [
    "x_train, y_train, x_test, y_test = getTrainingData('SharedResponses.csv')\n",
    "batch_size = 128\n",
    "num_classes = 12\n",
    "epochs = 12\n",
    "\n",
    "# input image dimensions\n",
    "img_rows, img_cols = 1, 8"
   ]
  },
  {
   "cell_type": "code",
   "execution_count": 14,
   "metadata": {},
   "outputs": [],
   "source": [
    "if K.image_data_format() == 'channels_first':\n",
    "    x_train = x_train.reshape(x_train.shape[0], 1, img_rows, img_cols)\n",
    "    x_test = x_test.reshape(x_test.shape[0], 1, img_rows, img_cols)\n",
    "    input_shape = (1, img_rows, img_cols)\n",
    "else:\n",
    "    x_train = x_train.reshape(x_train.shape[0], img_rows, img_cols, 1)\n",
    "    x_test = x_test.reshape(x_test.shape[0], img_rows, img_cols, 1)\n",
    "    input_shape = (img_rows, img_cols, 1)"
   ]
  },
  {
   "cell_type": "code",
   "execution_count": 15,
   "metadata": {},
   "outputs": [
    {
     "name": "stdout",
     "output_type": "stream",
     "text": [
      "x_train shape: (100000, 1, 8, 1)\n",
      "100000 train samples\n",
      "10000 test samples\n"
     ]
    }
   ],
   "source": [
    "x_train = x_train.astype('float32')\n",
    "x_test = x_test.astype('float32')\n",
    "x_train /= 2\n",
    "x_test /= 2\n",
    "print('x_train shape:', x_train.shape)\n",
    "print(x_train.shape[0], 'train samples')\n",
    "print(x_test.shape[0], 'test samples')"
   ]
  },
  {
   "cell_type": "code",
   "execution_count": 16,
   "metadata": {},
   "outputs": [],
   "source": [
    "y_train = keras.utils.to_categorical(y_train, num_classes)\n",
    "y_test = keras.utils.to_categorical(y_test, num_classes)"
   ]
  },
  {
   "cell_type": "code",
   "execution_count": 17,
   "metadata": {},
   "outputs": [
    {
     "data": {
      "text/plain": [
       "(1, 8, 1)"
      ]
     },
     "execution_count": 17,
     "metadata": {},
     "output_type": "execute_result"
    }
   ],
   "source": [
    "input_shape"
   ]
  },
  {
   "cell_type": "code",
   "execution_count": 32,
   "metadata": {},
   "outputs": [],
   "source": [
    "model = Sequential()\n",
    "model.add(Conv2D(32, kernel_size=(2, 1),\n",
    "                 activation='relu',\n",
    "                 input_shape=input_shape, data_format='channels_first'))\n",
    "model.add(Conv2D(64, (2, 1), activation='relu'))\n",
    "model.add(MaxPooling2D(pool_size=(2, 2)))\n",
    "model.add(Dropout(0.25))\n",
    "model.add(Flatten())\n",
    "model.add(Dense(128, activation='relu'))\n",
    "model.add(Dropout(0.5))\n",
    "model.add(Dense(num_classes, activation='softmax'))"
   ]
  },
  {
   "cell_type": "code",
   "execution_count": 33,
   "metadata": {},
   "outputs": [],
   "source": [
    "model.compile(loss=keras.losses.categorical_crossentropy,\n",
    "              optimizer=keras.optimizers.Adadelta(),\n",
    "              metrics=['accuracy'])"
   ]
  },
  {
   "cell_type": "code",
   "execution_count": 34,
   "metadata": {},
   "outputs": [
    {
     "name": "stdout",
     "output_type": "stream",
     "text": [
      "Train on 100000 samples, validate on 10000 samples\n",
      "Epoch 1/12\n",
      "100000/100000 [==============================] - 36s 360us/step - loss: 0.7996 - acc: 0.4972 - val_loss: 0.6975 - val_acc: 0.5164\n",
      "Epoch 2/12\n",
      "100000/100000 [==============================] - 36s 359us/step - loss: 0.6998 - acc: 0.5080 - val_loss: 0.6959 - val_acc: 0.5180\n",
      "Epoch 3/12\n",
      "100000/100000 [==============================] - 32s 321us/step - loss: 0.6978 - acc: 0.5100 - val_loss: 0.6965 - val_acc: 0.5230\n",
      "Epoch 4/12\n",
      "100000/100000 [==============================] - 33s 327us/step - loss: 0.6972 - acc: 0.5097 - val_loss: 0.6961 - val_acc: 0.5081\n",
      "Epoch 5/12\n",
      "100000/100000 [==============================] - 31s 307us/step - loss: 0.6967 - acc: 0.5095 - val_loss: 0.6924 - val_acc: 0.5163\n",
      "Epoch 6/12\n",
      "100000/100000 [==============================] - 31s 314us/step - loss: 0.6966 - acc: 0.5116 - val_loss: 0.6933 - val_acc: 0.5234\n",
      "Epoch 7/12\n",
      "100000/100000 [==============================] - 33s 325us/step - loss: 0.6963 - acc: 0.5126 - val_loss: 0.6939 - val_acc: 0.5179\n",
      "Epoch 8/12\n",
      "100000/100000 [==============================] - 32s 319us/step - loss: 0.6961 - acc: 0.5103 - val_loss: 0.6908 - val_acc: 0.5268\n",
      "Epoch 9/12\n",
      "100000/100000 [==============================] - 33s 326us/step - loss: 0.6962 - acc: 0.5092 - val_loss: 0.6956 - val_acc: 0.4973\n",
      "Epoch 10/12\n",
      "100000/100000 [==============================] - 34s 335us/step - loss: 0.6960 - acc: 0.5101 - val_loss: 0.6919 - val_acc: 0.5180\n",
      "Epoch 11/12\n",
      "100000/100000 [==============================] - 33s 333us/step - loss: 0.6959 - acc: 0.5089 - val_loss: 0.6938 - val_acc: 0.5081\n",
      "Epoch 12/12\n",
      "100000/100000 [==============================] - 35s 350us/step - loss: 0.6959 - acc: 0.5119 - val_loss: 0.6908 - val_acc: 0.5243\n"
     ]
    },
    {
     "data": {
      "text/plain": [
       "<keras.callbacks.History at 0x26bc4da7080>"
      ]
     },
     "execution_count": 34,
     "metadata": {},
     "output_type": "execute_result"
    }
   ],
   "source": [
    "model.fit(x_train, y_train,\n",
    "          batch_size=batch_size,\n",
    "          epochs=epochs,\n",
    "          verbose=1,\n",
    "          validation_data=(x_test, y_test))"
   ]
  },
  {
   "cell_type": "code",
   "execution_count": 35,
   "metadata": {},
   "outputs": [
    {
     "name": "stdout",
     "output_type": "stream",
     "text": [
      "Test loss: 0.6907536380767823\n",
      "Test accuracy: 0.5243\n"
     ]
    }
   ],
   "source": [
    "score = model.evaluate(x_test, y_test, verbose=0)\n",
    "print('Test loss:', score[0])\n",
    "print('Test accuracy:', score[1])"
   ]
  }
 ],
 "metadata": {
  "kernelspec": {
   "display_name": "Python 3",
   "language": "python",
   "name": "python3"
  },
  "language_info": {
   "codemirror_mode": {
    "name": "ipython",
    "version": 3
   },
   "file_extension": ".py",
   "mimetype": "text/x-python",
   "name": "python",
   "nbconvert_exporter": "python",
   "pygments_lexer": "ipython3",
   "version": "3.6.5"
  }
 },
 "nbformat": 4,
 "nbformat_minor": 2
}
